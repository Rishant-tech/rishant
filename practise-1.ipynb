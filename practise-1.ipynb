{
 "cells": [
  {
   "cell_type": "code",
   "execution_count": null,
   "id": "e2a2ecdb",
   "metadata": {},
   "outputs": [],
   "source": [
    "# He first turns and travels 10 units of distance\n",
    "# His second turn is upward for 20 units\n",
    "# Third turn is to the left for 30 units\n",
    "# Fourth turn is the downward for 40 units\n",
    "# Fifth turn is to the right(again) for 50 units\n",
    "# … And thus he travels, every time increasing the travel distance by 10 units."
   ]
  },
  {
   "cell_type": "code",
   "execution_count": 14,
   "id": "5a1cfed2",
   "metadata": {},
   "outputs": [
    {
     "name": "stdout",
     "output_type": "stream",
     "text": [
      "7\n",
      "90 50\n"
     ]
    }
   ],
   "source": [
    "n = int(input()) #no of steps\n",
    "c = 'R' #step type\n",
    "dis = 10 #predefined distance per step\n",
    "x,y=0,0\n",
    "for i in range(n):\n",
    "    if c=='R':\n",
    "        x=x+dis\n",
    "        c='U'\n",
    "        dis=dis+10\n",
    "    elif c=='U':\n",
    "        y=y+dis\n",
    "        c='L'\n",
    "        dis=dis+10\n",
    "    elif c=='L':\n",
    "        x=x-dis\n",
    "        c='D'\n",
    "        dis=dis+10\n",
    "    elif c=='D':\n",
    "        y=y-dis\n",
    "        c='A'\n",
    "        dis=dis+10\n",
    "    elif c=='A':\n",
    "        x=x+dis\n",
    "        c='R'\n",
    "        dis=dis+10\n",
    "print(x,y)"
   ]
  },
  {
   "cell_type": "code",
   "execution_count": 15,
   "id": "0bddc79b",
   "metadata": {},
   "outputs": [],
   "source": [
    "# Sweet Seventeen Problem Statement\n",
    "# # Given a maximum of four digit to the base \n",
    "# # 17 (10 – A, 11 – B, 12 – C, 13 – D … 16 – G} as input, output its decimal value."
   ]
  },
  {
   "cell_type": "code",
   "execution_count": 17,
   "id": "db57bb7e",
   "metadata": {},
   "outputs": [
    {
     "name": "stdout",
     "output_type": "stream",
     "text": [
      "1a\n"
     ]
    },
    {
     "data": {
      "text/plain": [
       "27"
      ]
     },
     "execution_count": 17,
     "metadata": {},
     "output_type": "execute_result"
    }
   ],
   "source": [
    "num=input()  #input as string default type input\n",
    "print(int(num,17))  #print the int format of the number"
   ]
  },
  {
   "cell_type": "code",
   "execution_count": 18,
   "id": "3af81cbe",
   "metadata": {},
   "outputs": [],
   "source": [
    "# # Oddly Even Problem Statement\n",
    "# Given a maximum of 100 digit numbers as input, \n",
    "# find the difference between the sum of odd and even position digits\n"
   ]
  },
  {
   "cell_type": "code",
   "execution_count": 85,
   "id": "1cfb1fa6",
   "metadata": {},
   "outputs": [],
   "source": [
    "o=0\n",
    "e=0"
   ]
  },
  {
   "cell_type": "code",
   "execution_count": 94,
   "id": "80d98d12",
   "metadata": {},
   "outputs": [
    {
     "name": "stdout",
     "output_type": "stream",
     "text": [
      "9834698765123\n"
     ]
    }
   ],
   "source": [
    "num=input()"
   ]
  },
  {
   "cell_type": "code",
   "execution_count": 95,
   "id": "bb0fd12d",
   "metadata": {},
   "outputs": [],
   "source": [
    "l=len(num)\n"
   ]
  },
  {
   "cell_type": "code",
   "execution_count": 97,
   "id": "cb20de17",
   "metadata": {},
   "outputs": [
    {
     "name": "stdout",
     "output_type": "stream",
     "text": [
      "1\n"
     ]
    }
   ],
   "source": [
    "o=0\n",
    "e=0\n",
    "num=input()\n",
    "\n",
    "for i in range(1,len(num)+1):\n",
    "    if i%2==0:\n",
    "        e=e+int(num[i-1])\n",
    "        \n",
    "    else:\n",
    "        o=o+int(num[i-1])\n",
    "        \n",
    "print(o-e)"
   ]
  },
  {
   "cell_type": "code",
   "execution_count": 98,
   "id": "e295eba8",
   "metadata": {},
   "outputs": [
    {
     "data": {
      "text/plain": [
       "35"
      ]
     },
     "execution_count": 98,
     "metadata": {},
     "output_type": "execute_result"
    }
   ],
   "source": [
    "e\n"
   ]
  },
  {
   "cell_type": "code",
   "execution_count": 99,
   "id": "866e7922",
   "metadata": {},
   "outputs": [
    {
     "data": {
      "text/plain": [
       "36"
      ]
     },
     "execution_count": 99,
     "metadata": {},
     "output_type": "execute_result"
    }
   ],
   "source": [
    "o"
   ]
  },
  {
   "cell_type": "code",
   "execution_count": 100,
   "id": "4dbc0853",
   "metadata": {},
   "outputs": [],
   "source": [
    "# Problem Statement (Word is Key)\n",
    "# One programming language has the following keywords that cannot be used as identifiers:\n",
    "\n",
    "# break, case, continue, default, defer, else, for, func, goto, if, map, range, return, struct, type, var\n",
    "\n",
    "# Write a program to find if the given word is a keyword or not"
   ]
  },
  {
   "cell_type": "code",
   "execution_count": 102,
   "id": "a1ad96a7",
   "metadata": {},
   "outputs": [],
   "source": [
    "a=dir(__builtins__)"
   ]
  },
  {
   "cell_type": "code",
   "execution_count": 108,
   "id": "bd0ec8fc",
   "metadata": {},
   "outputs": [
    {
     "data": {
      "text/plain": [
       "False"
      ]
     },
     "execution_count": 108,
     "metadata": {},
     "output_type": "execute_result"
    }
   ],
   "source": [
    "'in' in a"
   ]
  },
  {
   "cell_type": "code",
   "execution_count": 112,
   "id": "eefc6de2",
   "metadata": {},
   "outputs": [
    {
     "name": "stdout",
     "output_type": "stream",
     "text": [
      "while\n",
      "while is not a keyword\n"
     ]
    }
   ],
   "source": [
    "key={'break', 'case', 'continue', 'default', 'defer', 'else', 'for', 'func', 'goto',\n",
    "     'if', 'map', 'range', 'return', 'struct', 'type', 'var'}\n",
    "n=input()\n",
    "if n in key:\n",
    "    print(n,\"is a keywod\")\n",
    "else:\n",
    "    print(n,\"is not a keyword\")"
   ]
  },
  {
   "cell_type": "code",
   "execution_count": 114,
   "id": "10a61b74",
   "metadata": {},
   "outputs": [],
   "source": [
    "# 1. The program will recieve 3 English words inputs from STDIN\n",
    "\n",
    "# These three words will be read one at a time, in three separate line\n",
    "# The first word should be changed like all vowels should be replaced by *\n",
    "# The second word should be changed like all consonants should be replaced by @\n",
    "# The third word should be changed like all char should be converted to upper case\n",
    "# Then concatenate the three words and print them\n",
    "# Other than these concatenated word, no other characters/string should or message should be written to STDOUT\n",
    "\n",
    "# For example if you print how are you then output should be h*wa@eYOU.\n",
    "\n",
    "# You can assume that input of each word will not exceed more than 5 chars"
   ]
  },
  {
   "cell_type": "code",
   "execution_count": 130,
   "id": "fdab325a",
   "metadata": {},
   "outputs": [
    {
     "name": "stdout",
     "output_type": "stream",
     "text": [
      "aeip\n"
     ]
    }
   ],
   "source": [
    "w1=input()\n",
    "w2=input()\n",
    "w3=input()\n",
    "\n",
    "\n",
    "\n"
   ]
  },
  {
   "cell_type": "code",
   "execution_count": 142,
   "id": "3b2f7af3",
   "metadata": {},
   "outputs": [],
   "source": [
    "w1=input()\n",
    "w2=input()\n",
    "w3=input()\n",
    "l=[w1,w2,w3]"
   ]
  },
  {
   "cell_type": "code",
   "execution_count": 148,
   "id": "8569c7c2",
   "metadata": {},
   "outputs": [
    {
     "name": "stdout",
     "output_type": "stream",
     "text": [
      "how\n",
      "are\n",
      "you\n",
      "h*wa@eYOU\n"
     ]
    }
   ],
   "source": [
    "w1=input()\n",
    "w2=input()\n",
    "w3=input()\n",
    "l=[w1,w2,w3]\n",
    "vowel=['a','e','i','o','u']\n",
    "for i in l:\n",
    "    if i==w1:\n",
    "        sub_1=''\n",
    "        for j in w1:           \n",
    "            if j in vowel:\n",
    "                sub_1=sub_1+'*'\n",
    "            else:\n",
    "                sub_1=sub_1+j\n",
    "    elif i==w2:\n",
    "        sub_2=''\n",
    "        for j in w2:\n",
    "            if j not in vowel:\n",
    "                sub_2=sub_2+'@'\n",
    "            else:\n",
    "                sub_2=sub_2+j\n",
    "    elif i==w3:\n",
    "        w3=w3.upper()\n",
    "print(sub_1+sub_2+w3)"
   ]
  },
  {
   "cell_type": "code",
   "execution_count": 149,
   "id": "7ef66d25",
   "metadata": {},
   "outputs": [
    {
     "data": {
      "text/plain": [
       "['how', 'are', 'you']"
      ]
     },
     "execution_count": 149,
     "metadata": {},
     "output_type": "execute_result"
    }
   ],
   "source": [
    "l"
   ]
  },
  {
   "cell_type": "code",
   "execution_count": 150,
   "id": "7aa5906b",
   "metadata": {},
   "outputs": [
    {
     "data": {
      "text/plain": [
       "'h*w'"
      ]
     },
     "execution_count": 150,
     "metadata": {},
     "output_type": "execute_result"
    }
   ],
   "source": [
    "sub_1"
   ]
  },
  {
   "cell_type": "code",
   "execution_count": 151,
   "id": "1e6a100a",
   "metadata": {},
   "outputs": [
    {
     "data": {
      "text/plain": [
       "'YOU'"
      ]
     },
     "execution_count": 151,
     "metadata": {},
     "output_type": "execute_result"
    }
   ],
   "source": [
    "w3"
   ]
  },
  {
   "cell_type": "code",
   "execution_count": 152,
   "id": "561e4370",
   "metadata": {},
   "outputs": [
    {
     "data": {
      "text/plain": [
       "'a@e'"
      ]
     },
     "execution_count": 152,
     "metadata": {},
     "output_type": "execute_result"
    }
   ],
   "source": [
    "sub_2"
   ]
  },
  {
   "cell_type": "code",
   "execution_count": null,
   "id": "e0b9f0ab",
   "metadata": {},
   "outputs": [],
   "source": [
    "# Find the nth term of the series.\n",
    "\n",
    "# 1, 1, 2, 3, 4, 9, 8, 27, 16, 81, 32, 243,64, 729, 128, 2187 ….\n",
    "\n",
    "# This series is a mixture of 2 series – all the odd terms in this series form a geometric series and all the even terms form yet another geometric series. Write a program to find the Nth term in the series.\n",
    "\n",
    "# The value N in a positive integer that should be read from STDIN.\n",
    "# The Nth term that is calculated by the program should be written to STDOUT.\n",
    "# Other than value of n th term,no other character / string or message should be written to STDOUT.\n",
    "# For example , if N=16, the 16th term in the series is 2187, so only value 2187 should be printed to STDOUT.\n",
    "# You can assume that N will not exceed 30."
   ]
  }
 ],
 "metadata": {
  "kernelspec": {
   "display_name": "Python 3 (ipykernel)",
   "language": "python",
   "name": "python3"
  },
  "language_info": {
   "codemirror_mode": {
    "name": "ipython",
    "version": 3
   },
   "file_extension": ".py",
   "mimetype": "text/x-python",
   "name": "python",
   "nbconvert_exporter": "python",
   "pygments_lexer": "ipython3",
   "version": "3.9.12"
  }
 },
 "nbformat": 4,
 "nbformat_minor": 5
}
